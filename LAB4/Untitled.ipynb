{
 "cells": [
  {
   "cell_type": "code",
   "execution_count": 6,
   "id": "102d2e88",
   "metadata": {},
   "outputs": [
    {
     "name": "stdout",
     "output_type": "stream",
     "text": [
      "(400,)\n"
     ]
    },
    {
     "name": "stderr",
     "output_type": "stream",
     "text": [
      "<ipython-input-6-1d0b34b902f1>:47: UserWarning: marker is redundantly defined by the 'marker' keyword argument and the fmt string \".\" (-> marker='.'). The keyword argument will take precedence.\n",
      "  plt.plot(data[id,0],data[id,1],'.',color=clr[l],marker=mrk[l])\n",
      "<ipython-input-6-1d0b34b902f1>:47: UserWarning: marker is redundantly defined by the 'marker' keyword argument and the fmt string \".\" (-> marker='.'). The keyword argument will take precedence.\n",
      "  plt.plot(data[id,0],data[id,1],'.',color=clr[l],marker=mrk[l])\n",
      "<ipython-input-6-1d0b34b902f1>:47: UserWarning: marker is redundantly defined by the 'marker' keyword argument and the fmt string \".\" (-> marker='.'). The keyword argument will take precedence.\n",
      "  plt.plot(data[id,0],data[id,1],'.',color=clr[l],marker=mrk[l])\n",
      "<ipython-input-6-1d0b34b902f1>:47: UserWarning: marker is redundantly defined by the 'marker' keyword argument and the fmt string \".\" (-> marker='.'). The keyword argument will take precedence.\n",
      "  plt.plot(data[id,0],data[id,1],'.',color=clr[l],marker=mrk[l])\n"
     ]
    },
    {
     "data": {
      "image/png": "[encoded data removed]",
      "text/plain": [
       "<Figure size 432x288 with 1 Axes>"
      ]
     },
     "metadata": {
      "needs_background": "light"
     },
     "output_type": "display_data"
    }
   ],
   "source": [
    "import numpy as np\n",
    "import matplotlib.pyplot as plt\n",
    "%matplotlib inline\n",
    "\n",
    "## Data generation\n",
    "\n",
    "# mu1=np.array([0.5,0])\n",
    "# mu2=np.array([5,5])\n",
    "# mu3=np.array([5,1])\n",
    "# mu4=np.array([10,1.5])\n",
    "\n",
    "mu1=np.array([0.5,0])\n",
    "mu2=np.array([5,2.5])# mu2=5,5\n",
    "mu3=np.array([5,1])\n",
    "mu4=np.array([10,1.5])\n",
    "\n",
    "\n",
    "\n",
    "\n",
    "\n",
    "Sigma=np.array([[1,0],[0,1]])\n",
    "Sigma1=np.array([[1,0.9],[0.9,1]])\n",
    "f1=np.random.multivariate_normal(mu1,Sigma,100)\n",
    "f2=np.random.multivariate_normal(mu2,Sigma1,100)# change it to sigma\n",
    "f3=np.random.multivariate_normal(mu3,Sigma,100)\n",
    "f4=np.random.multivariate_normal(mu4,Sigma,100)\n",
    "F=np.concatenate((f1,f2,f3,f4))\n",
    "\n",
    "data=(F-(np.mean(F,axis=0)))/(np.std(F,axis=0)) # data normalization\n",
    "\n",
    "\n",
    "# ploting\n",
    "clr=['r','g','b','y','k','m','c']\n",
    "mrk=['+','*','X','o','.','<','p']\n",
    "\n",
    "lab1=np.zeros(f1.shape[0])\n",
    "lab2=np.ones(f2.shape[0])\n",
    "lab3=np.tile([2],f3.shape[0])\n",
    "lab4=np.tile([3],f4.shape[0])\n",
    "lab=np.concatenate((lab1,lab2,lab3,lab4))\n",
    "print(lab.shape)\n",
    "\n",
    "plt.figure()\n",
    "for l in range(4):\n",
    "    id=np.where(lab==l)\n",
    "    #print(l)\n",
    "    plt.plot(data[id,0],data[id,1],'.',color=clr[l],marker=mrk[l])"
   ]
  },
  {
   "cell_type": "code",
   "execution_count": 7,
   "id": "3dbb4c59",
   "metadata": {},
   "outputs": [],
   "source": [
    "def initialization(data,K):\n",
    "\n",
    "  # write your code here\n",
    "  d=data.shape[1] # dimension of data\n",
    "\n",
    "\n",
    "# mean initialization\n",
    "  pick_means=np.random.randint(0,data.shape[0],K)\n",
    "  means=data[pick_means,:]\n",
    "  means=np.transpose(means)\n",
    "\n",
    "# covariance matrix initialization\n",
    "  Covariance=np.zeros((d,d,K))\n",
    "  for i in range(K):\n",
    "    Covariance[:,:,i]=np.eye(d)*np.max(data,axis=None)    \n",
    "    \n",
    "#mixing coefficients\n",
    "  proportions=np.ones((K,1))/K\n",
    "\n",
    "  theta=[means,Covariance,proportions]\n",
    "\n",
    "  Cents=means.T\n",
    "    \n",
    "  return theta"
   ]
  },
  {
   "cell_type": "code",
   "execution_count": 8,
   "id": "d7151e75",
   "metadata": {},
   "outputs": [
    {
     "data": {
      "text/plain": [
       "[array([[ 0.34532382,  1.70604218,  0.9902136 ,  1.6112682 ],\n",
       "        [ 0.52625971, -0.0189509 ,  0.14368411,  0.0570644 ]]),\n",
       " array([[[2.95014584, 2.95014584, 2.95014584, 2.95014584],\n",
       "         [0.        , 0.        , 0.        , 0.        ]],\n",
       " \n",
       "        [[0.        , 0.        , 0.        , 0.        ],\n",
       "         [2.95014584, 2.95014584, 2.95014584, 2.95014584]]]),\n",
       " array([[0.25],\n",
       "        [0.25],\n",
       "        [0.25],\n",
       "        [0.25]])]"
      ]
     },
     "execution_count": 8,
     "metadata": {},
     "output_type": "execute_result"
    }
   ],
   "source": [
    "initialization(data, 4)"
   ]
  },
  {
   "cell_type": "code",
   "execution_count": null,
   "id": "3093ff1d",
   "metadata": {},
   "outputs": [],
   "source": []
  }
 ],
 "metadata": {
  "kernelspec": {
   "display_name": "Python 3",
   "language": "python",
   "name": "python3"
  },
  "language_info": {
   "codemirror_mode": {
    "name": "ipython",
    "version": 3
   },
   "file_extension": ".py",
   "mimetype": "text/x-python",
   "name": "python",
   "nbconvert_exporter": "python",
   "pygments_lexer": "ipython3",
   "version": "3.8.8"
  }
 },
 "nbformat": 4,
 "nbformat_minor": 5
}
