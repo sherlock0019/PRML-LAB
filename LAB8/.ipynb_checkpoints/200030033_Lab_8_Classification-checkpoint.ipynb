{
 "cells": [
  {
   "cell_type": "markdown",
   "metadata": {
    "id": "3Mv3HAc5lxDS"
   },
   "source": [
    "#LAB 8 : Classification\n",
    "\n",
    "  1. Support Vector Machines \n",
    "  2. K-Nearest Neighbors\n",
    "  3. Classification on MNIST Digit "
   ]
  },
  {
   "cell_type": "code",
   "execution_count": 1,
   "metadata": {
    "id": "NS7TheMHWvey"
   },
   "outputs": [],
   "source": [
    "import numpy as np\n",
    "import matplotlib.pyplot as plt\n",
    "%matplotlib inline\n",
    "import math"
   ]
  },
  {
   "cell_type": "markdown",
   "metadata": {
    "id": "SijY2JQYm6MH"
   },
   "source": [
    "#Support Vector Machines (SVM)\n",
    "\n"
   ]
  },
  {
   "cell_type": "markdown",
   "metadata": {
    "id": "YrR-b3HRqHyt"
   },
   "source": [
    "1. Try to maximize the margin of separation between data.\n",
    "2. Instead of learning wx+b=0  separating hyperplane directly (like logistic regression), SVM try to learn wx+b=0, such that, the margin between two hyperplanes wx+b=1 and wx+b=-1 (also known as support vectors) is maximum. \n",
    "3. Margin between wx+b=1 and wx+b=-1 hyperplane is $\\frac{2}{||w||}$\n",
    "4. we have a constraint optimization problem of maximizing $\\frac{2}{||w||}$, with constraints wx+b>=1 (for +ve class) and wx+b<=-1 (for -ve class).\n",
    "5. As $y_{i}=1$ for +ve class and $y_{i}=-1$ for -ve class, the constraint can be re-written as:\n",
    "$$y(wx+b)>=1$$\n",
    "\n",
    "6. Final optimization is (i.e to find w and b):\n",
    "$$\\min_{||w||}\\frac{1}{2}||w||,$$\n",
    "$$y(wx+b) \\geq 1,~\\forall ~data $$\n",
    "\n",
    "\n",
    "\n",
    "Acknowledgement:\n",
    "\n",
    "https://pythonprogramming.net/predictions-svm-machine-learning-tutorial/\n",
    "\n",
    "https://medium.com/deep-math-machine-learning-ai/chapter-3-1-svm-from-scratch-in-python-86f93f853dc"
   ]
  },
  {
   "cell_type": "markdown",
   "metadata": {
    "id": "0WCG5fd2n6fo"
   },
   "source": [
    "## Data generation:\n",
    "1. Generate 2D gaussian data with fixed mean and variance for 2 class.(var=Identity, class1: mean[-4,-4], class2: mean[1,1], No. of data 25 from each class)\n",
    "2. create the label matrix\n",
    "3. Plot the generated data"
   ]
  },
  {
   "cell_type": "code",
   "execution_count": 2,
   "metadata": {
    "colab": {
     "base_uri": "https://localhost:8080/",
     "height": 317
    },
    "id": "a72yGlURm9aR",
    "outputId": "d533dcbc-0ca4-49c4-f02f-5e8cc8a44aca"
   },
   "outputs": [
    {
     "name": "stdout",
     "output_type": "stream",
     "text": [
      "(50, 2)\n",
      "(50,)\n"
     ]
    },
    {
     "data": {
      "text/plain": [
       "<matplotlib.collections.PathCollection at 0x2676c2a0a60>"
      ]
     },
     "execution_count": 2,
     "metadata": {},
     "output_type": "execute_result"
    },
    {
     "data": {
      "image/png": "[encoded data removed]",
      "text/plain": [
       "<Figure size 432x288 with 1 Axes>"
      ]
     },
     "metadata": {
      "needs_background": "light"
     },
     "output_type": "display_data"
    }
   ],
   "source": [
    "No_sample=50\n",
    "mean1=np.array([-3,-3])\n",
    "var1=np.array([[1,0],[0,1]])\n",
    "mean2=np.array([1,1])\n",
    "var2=var1\n",
    "data1=np.random.multivariate_normal(mean1,var1,int(No_sample/2))\n",
    "data2=np.random.multivariate_normal(mean2,var2,int(No_sample/2))\n",
    "X=np.concatenate((data1,data2))\n",
    "print(X.shape)\n",
    "y=np.concatenate((-1*np.ones(data1.shape[0]),np.ones(data2.shape[0])))\n",
    "print(y.shape)\n",
    "\n",
    "plt.figure()\n",
    "plt.scatter(X[:,0],X[:,1],marker='o',c=y)"
   ]
  },
  {
   "cell_type": "markdown",
   "metadata": {
    "id": "Phj7pyfloB14"
   },
   "source": [
    "Create a data dictionary, which contains both label and data points."
   ]
  },
  {
   "cell_type": "code",
   "execution_count": 3,
   "metadata": {
    "id": "bHCOeQPGoBgn"
   },
   "outputs": [],
   "source": [
    "postiveX=[]\n",
    "negativeX=[]\n",
    "\n",
    "for i,v in enumerate(y):\n",
    "    if v==-1:\n",
    "        negativeX.append(X[i])\n",
    "    else:\n",
    "        postiveX.append(X[i])\n",
    "\n",
    "#our data dictionary\n",
    "data_dict = {-1:np.array(negativeX), 1:np.array(postiveX)} "
   ]
  },
  {
   "cell_type": "markdown",
   "metadata": {
    "id": "0eLaHuaEoGua"
   },
   "source": [
    "## SVM training\n",
    "1. create a search space for w (i.e w1=w2),[0, 0.5*max((abs(feat)))] and  for b, [-max((abs(feat))),max((abs(feat)))], with appropriate step.\n",
    "2. we will start with a higher step and find optimal w and b, then we will reduce the step and again re-evaluate the optimal one.\n",
    "\n",
    "3. In each step, we will take transform of w, [1,1], [-1,1],[1,-1] and [-1,-1] to search arround the w. \n",
    "\n",
    "4. In every pass (for a fixed step size) we will store all the w, b and its corresponding ||w||, which make the data correctly classified as per the condition $y(wx+b) \\geq 1$. \n",
    "\n",
    "5. Obtain the optimal hyperplane having minimum ||w||.\n",
    "\n",
    "6. Start with the optimal w and repeat the same (step 3,4 and 5) for a reduced step size.\n"
   ]
  },
  {
   "cell_type": "code",
   "execution_count": 4,
   "metadata": {
    "id": "S0SJ1SkDoHk4"
   },
   "outputs": [],
   "source": [
    "# it is just a searching algorithem, not a complicated optimization algorithem, (just for understanding of concepts through visualization)\n",
    "\n",
    "def SVM_Training(data_dict):\n",
    "\n",
    "    \n",
    "   \n",
    "    # { ||w||: [w,b] } is dictionary contains norms of w and corresponding w and b value, \n",
    "    # where all the data points are correctly classified\n",
    "    length_Wvector = {}\n",
    "    transforms = [[1,1],[-1,1],[-1,-1],[1,-1]]\n",
    "\n",
    "    max_feature_value=np.max([np.max(np.abs(data_dict[1])),np.max(np.abs(data_dict[-1]))]) \n",
    "    steps = [max_feature_value * 0.1, max_feature_value * 0.01, max_feature_value * 0.001]\n",
    "\n",
    "    b_step_size = 2\n",
    "    b_multiple = 5\n",
    "    w_optimum = max_feature_value*0.5\n",
    "\n",
    "    for step in steps:\n",
    "        \n",
    "        w = np.array([w_optimum,w_optimum])     \n",
    "        srch_comp = False\n",
    "        while not srch_comp:\n",
    "            #b=[-maxvalue to maxvalue] we wanna maximize the b values so check for every b value\n",
    "            for b in np.arange(-1*(max_feature_value*b_step_size), max_feature_value*b_step_size, step*b_multiple):\n",
    "                for transformation in transforms:  # transforms = [[1,1],[-1,1],[-1,-1],[1,-1]]\n",
    "                    w_t = w*transformation\n",
    "                    \n",
    "                    correctly_classified = True\n",
    "                    \n",
    "                    # every data point should be correct\n",
    "                    for yi in data_dict:\n",
    "                        for xi in data_dict[yi]:\n",
    "                            if yi*(np.dot(w_t,xi)+b) < 1:  # we want  yi*(np.dot(w_t,xi)+b) >= 1 for correct classification\n",
    "                                correctly_classified = False\n",
    "                                \n",
    "                    if correctly_classified:\n",
    "                        length_Wvector[np.linalg.norm(w_t)] = [w_t,b] #store w, b for minimum magnitude\n",
    "            \n",
    "            if w[0] < 0:\n",
    "                srch_comp = True\n",
    "            else:\n",
    "                w = w - step\n",
    "\n",
    "        norms = sorted([n for n in length_Wvector]) # sort the heated norms\n",
    "        \n",
    "        minimum_wlength = length_Wvector[norms[0]]\n",
    "        w = minimum_wlength[0]\n",
    "        b = minimum_wlength[1]\n",
    "        \n",
    "        w_optimum = w[0] # w1 and w2 are same\n",
    "    \n",
    "    return w,b"
   ]
  },
  {
   "cell_type": "markdown",
   "metadata": {
    "id": "Z61b1mAfoOg0"
   },
   "source": [
    "**Training**"
   ]
  },
  {
   "cell_type": "code",
   "execution_count": 5,
   "metadata": {
    "colab": {
     "base_uri": "https://localhost:8080/"
    },
    "id": "oL5YnFPeoO--",
    "outputId": "38e70ea6-086d-421c-82ee-b3e4cc3eff5c"
   },
   "outputs": [
    {
     "name": "stdout",
     "output_type": "stream",
     "text": [
      "[1.83373222 1.83373222]\n",
      "1.9717550794233603\n"
     ]
    }
   ],
   "source": [
    "# All the required variables \n",
    "w=[] # Weights 2 dimensional vector\n",
    "b=[] # Bias\n",
    "w,b=SVM_Training(data_dict)\n",
    "print(w)\n",
    "print(b)"
   ]
  },
  {
   "cell_type": "markdown",
   "metadata": {
    "id": "iJNvumy3oXXi"
   },
   "source": [
    "## Visualization of the SVM separating hyperplanes (after training)"
   ]
  },
  {
   "cell_type": "code",
   "execution_count": 6,
   "metadata": {
    "id": "fsGQFTlIoYKj"
   },
   "outputs": [],
   "source": [
    "def visualize(data_dict):\n",
    "       \n",
    "        plt.scatter(X[:,0],X[:,1],marker='o',c=y)\n",
    "\n",
    "        # hyperplane = x.w+b\n",
    "        # v = x.w+b\n",
    "        # psv = 1\n",
    "        # nsv = -1\n",
    "        # dec = 0\n",
    "        def hyperplane_value(x,w,b,v):\n",
    "            return (-w[0]*x-b+v) / w[1]\n",
    "\n",
    "        \n",
    "        hyp_x_min = np.min([np.min(data_dict[1]),np.min(data_dict[-1])])\n",
    "        hyp_x_max = np.max([np.max(data_dict[1]),np.max(data_dict[-1])])\n",
    "\n",
    "        # (w.x+b) = 1\n",
    "        # positive support vector hyperplane\n",
    "        psv1 = hyperplane_value(hyp_x_min, w, b, 1)\n",
    "        psv2 = hyperplane_value(hyp_x_max, w, b, 1)\n",
    "        plt.plot([hyp_x_min,hyp_x_max],[psv1,psv2], 'k')\n",
    "\n",
    "        # (w.x+b) = -1\n",
    "        # negative support vector hyperplane\n",
    "        nsv1 = hyperplane_value(hyp_x_min, w, b, -1)\n",
    "        nsv2 = hyperplane_value(hyp_x_max, w, b, -1)\n",
    "        plt.plot([hyp_x_min,hyp_x_max],[nsv1,nsv2], 'k')\n",
    "\n",
    "        # (w.x+b) = 0\n",
    "        # positive support vector hyperplane\n",
    "        db1 = hyperplane_value(hyp_x_min, w, b, 0)\n",
    "        db2 = hyperplane_value(hyp_x_max, w, b, 0)\n",
    "        plt.plot([hyp_x_min,hyp_x_max],[db1,db2], 'y--')\n",
    "        \n",
    "        \n",
    "        "
   ]
  },
  {
   "cell_type": "code",
   "execution_count": 7,
   "metadata": {
    "colab": {
     "base_uri": "https://localhost:8080/",
     "height": 265
    },
    "id": "uqu0Z8Nnodvy",
    "outputId": "43f5d251-e980-45a9-8bc3-735c47753e8f"
   },
   "outputs": [
    {
     "data": {
      "image/png": "[encoded data removed]",
      "text/plain": [
       "<Figure size 432x288 with 1 Axes>"
      ]
     },
     "metadata": {
      "needs_background": "light"
     },
     "output_type": "display_data"
    }
   ],
   "source": [
    "fig = plt.figure()\n",
    "visualize(data_dict)"
   ]
  },
  {
   "cell_type": "markdown",
   "metadata": {
    "id": "Hc2Tv8o0obsa"
   },
   "source": [
    "**Testing**"
   ]
  },
  {
   "cell_type": "code",
   "execution_count": 8,
   "metadata": {
    "id": "Rb2tGapZohLM"
   },
   "outputs": [],
   "source": [
    "def predict(data,w,b):\n",
    "    y_pred=np.sign(np.dot(data,w)+b)\n",
    "    return y_pred"
   ]
  },
  {
   "cell_type": "code",
   "execution_count": 9,
   "metadata": {
    "colab": {
     "base_uri": "https://localhost:8080/",
     "height": 300
    },
    "id": "mo2AIA3qopXm",
    "outputId": "4bb39504-422a-4e1d-aeeb-0191856f7f4e"
   },
   "outputs": [
    {
     "name": "stdout",
     "output_type": "stream",
     "text": [
      "test accuracy= 100.0\n"
     ]
    },
    {
     "data": {
      "text/plain": [
       "<matplotlib.collections.PathCollection at 0x2676c425a60>"
      ]
     },
     "execution_count": 9,
     "metadata": {},
     "output_type": "execute_result"
    },
    {
     "data": {
      "image/png": "[encoded data removed]",
      "text/plain": [
       "<Figure size 432x288 with 1 Axes>"
      ]
     },
     "metadata": {
      "needs_background": "light"
     },
     "output_type": "display_data"
    }
   ],
   "source": [
    "No_test_sample=40\n",
    "data1=np.random.multivariate_normal(mean1,var1,int(No_test_sample/2))\n",
    "data2=np.random.multivariate_normal(mean2,var2,int(No_test_sample/2))\n",
    "test_data=np.concatenate((data1,data2))\n",
    "y_gr=np.concatenate((-1*np.ones(data1.shape[0]),np.ones(data2.shape[0])))\n",
    "\n",
    "# evaluate with the trained model\n",
    "\n",
    "y_pred = predict(test_data,w,b)\n",
    "accuracy = (1-(np.abs(0.5*np.sum(y_pred-y_gr))/y_pred.shape[0]))*100\n",
    "print('test accuracy=',accuracy)\n",
    "\n",
    "#  Visualization\n",
    "plt.figure()\n",
    "visualize(data_dict)\n",
    "plt.scatter(test_data[:,0],test_data[:,1],marker='x',c=y_gr)\n"
   ]
  },
  {
   "cell_type": "markdown",
   "metadata": {
    "id": "SZ2tNKujp4GY"
   },
   "source": [
    "**Use the Sci-kit Learn Package and perform Classification on the above dataset using the SVM algorithm**"
   ]
  },
  {
   "cell_type": "code",
   "execution_count": 10,
   "metadata": {
    "id": "GEeB59yip7pI"
   },
   "outputs": [
    {
     "name": "stdout",
     "output_type": "stream",
     "text": [
      "Train accuracy SVM = 100.0\n"
     ]
    }
   ],
   "source": [
    "from sklearn.svm import LinearSVC\n",
    "svm = LinearSVC()\n",
    "svm.fit(X,y)\n",
    "tr_Acc = svm.score(X,y)\n",
    "print('Train accuracy SVM =',tr_Acc*100)"
   ]
  },
  {
   "cell_type": "code",
   "execution_count": 11,
   "metadata": {},
   "outputs": [
    {
     "name": "stdout",
     "output_type": "stream",
     "text": [
      "Test accuracy SVM= 100.0\n",
      "Confusion matrix=\n",
      " [[20  0]\n",
      " [ 0 20]]\n"
     ]
    }
   ],
   "source": [
    "# svm testing\n",
    "from sklearn.metrics import confusion_matrix as conf_mat\n",
    "y_pred=svm.predict(test_data)\n",
    "svm_Acc=svm.score(test_data,y_gr)\n",
    "print('Test accuracy SVM=',svm_Acc*100)\n",
    "print('Confusion matrix=\\n',conf_mat(y_gr,y_pred))"
   ]
  },
  {
   "cell_type": "markdown",
   "metadata": {
    "id": "mcLrD0lXmGu8"
   },
   "source": [
    "#K-Nearest Neighbours (KNN)"
   ]
  },
  {
   "cell_type": "code",
   "execution_count": 12,
   "metadata": {
    "colab": {
     "base_uri": "https://localhost:8080/",
     "height": 298
    },
    "id": "lo8_k4OnmQSo",
    "outputId": "537583d6-82b8-486d-db78-19efe667b8ec"
   },
   "outputs": [
    {
     "data": {
      "text/plain": [
       "Text(0.5, 1.0, 'Data visualization')"
      ]
     },
     "execution_count": 12,
     "metadata": {},
     "output_type": "execute_result"
    },
    {
     "data": {
      "image/png": "[encoded data removed]",
      "text/plain": [
       "<Figure size 432x288 with 1 Axes>"
      ]
     },
     "metadata": {
      "needs_background": "light"
     },
     "output_type": "display_data"
    }
   ],
   "source": [
    "import numpy as np\n",
    "import matplotlib.pyplot as plt\n",
    "\n",
    "mean1=np.array([0,0])\n",
    "mean2=np.array([1,1])\n",
    "var=np.array([[1,0.1],[0.1,1]])\n",
    "np.random.seed(0)\n",
    "data1=np.random.multivariate_normal(mean1,var,500)\n",
    "data2=np.random.multivariate_normal(mean2,var,500)\n",
    "data_train=np.concatenate((data1[:-100,],data2[:-100]))\n",
    "label=np.concatenate((np.zeros(data1.shape[0]-100),np.ones(data2.shape[0]-100)))\n",
    "\n",
    "plt.figure()\n",
    "plt.scatter(data_train[:,0],data_train[:,1],c=label)\n",
    "plt.title('Data visualization')"
   ]
  },
  {
   "cell_type": "code",
   "execution_count": 13,
   "metadata": {
    "id": "SNvi2JezmTdv"
   },
   "outputs": [],
   "source": [
    "def euclidean_distance(row1, row2):\n",
    "    return np.linalg.norm(row1-row2)"
   ]
  },
  {
   "cell_type": "code",
   "execution_count": 14,
   "metadata": {
    "id": "p7bHKojymWDK"
   },
   "outputs": [],
   "source": [
    "def get_neighbors(train,label_train, test_row, num_neighbors):\n",
    "    \n",
    "    distances = list()\n",
    "    \n",
    "    for i in range(train.shape[0]):\n",
    "        train_row=train[i,:]\n",
    "        label_row=label_train[i]\n",
    "        dist = euclidean_distance(test_row, train_row)\n",
    "        distances.append((train_row, dist,label_row))\n",
    "        \n",
    "    distances.sort(key=lambda tup: tup[1])\n",
    "    neighbors = list()\n",
    "    \n",
    "    for i in range(num_neighbors):\n",
    "        neighbors.append(distances[i])\n",
    "    \n",
    "    return neighbors\n"
   ]
  },
  {
   "cell_type": "code",
   "execution_count": 15,
   "metadata": {
    "id": "8o48BauFmX6G"
   },
   "outputs": [],
   "source": [
    "def predict_classification(neigbors):\n",
    "    pred=list()\n",
    "    for i in range(len(neigbors)):\n",
    "        pred.append(neigbors[i][2])\n",
    "    prediction = max(set(pred), key=pred.count)\n",
    "    return prediction"
   ]
  },
  {
   "cell_type": "code",
   "execution_count": 16,
   "metadata": {
    "id": "wGgiErPimZue"
   },
   "outputs": [],
   "source": [
    "# test data generation\n",
    "data_test=np.concatenate((data1[-100:],data2[-100:]))\n",
    "label_test=np.concatenate((np.zeros(100),np.ones(100)))"
   ]
  },
  {
   "cell_type": "code",
   "execution_count": 17,
   "metadata": {
    "colab": {
     "base_uri": "https://localhost:8080/"
    },
    "id": "ELgGMgKnmeKu",
    "outputId": "d1b24c5c-aead-4f77-8784-a15583360091"
   },
   "outputs": [
    {
     "name": "stdout",
     "output_type": "stream",
     "text": [
      "Testing Accuracy= 65.5 %\n"
     ]
    }
   ],
   "source": [
    "K=2\n",
    "\n",
    "pred_label=np.zeros(data_test.shape[0])\n",
    "for i in range(data_test.shape[0]):\n",
    "  neig=get_neighbors(data_train,label, data_test[i,:], K)\n",
    "  pred_label[i]=predict_classification(neig)\n",
    "\n",
    "accuracy=(len(np.where(pred_label==label_test)[0])/len(label_test))*100\n",
    "print('Testing Accuracy=',accuracy,'%')"
   ]
  },
  {
   "cell_type": "markdown",
   "metadata": {
    "id": "kZ3mcjd3nFg2"
   },
   "source": [
    "**Use the Sci-kit Learn Package and perform Classification on the above dataset using the K-Nearest Neighbour algorithm**"
   ]
  },
  {
   "cell_type": "code",
   "execution_count": 18,
   "metadata": {
    "id": "XmfzWbEZnbX-"
   },
   "outputs": [
    {
     "name": "stdout",
     "output_type": "stream",
     "text": [
      "Testing Accuracy= 65.5 %\n"
     ]
    }
   ],
   "source": [
    "from sklearn.neighbors import KNeighborsClassifier\n",
    "model = KNeighborsClassifier(n_neighbors=2)\n",
    "model.fit(data_train,label)\n",
    "pred_label = model.predict(data_test)\n",
    "\n",
    "accuracy=(len(np.where(pred_label==label_test)[0])/len(label_test))*100\n",
    "print('Testing Accuracy=',accuracy,'%')"
   ]
  },
  {
   "cell_type": "markdown",
   "metadata": {
    "id": "ygq-jJs6Lxs9"
   },
   "source": [
    "#Classification on MNIST Digit Data"
   ]
  },
  {
   "cell_type": "markdown",
   "metadata": {
    "id": "cXApOGmzMxRp"
   },
   "source": [
    "1. Read MNIST data and perform train-test split\n",
    "2. Select any 2 Classes and perform classification task using SVM, KNN and Logistic Regression algorithms with the help of Sci-Kit Learn tool\n",
    "3. Report the train and test accuracy and also display the results using confusion matrix\n",
    "4. Repeat steps 2 and 3 for all 10 Classes and tabulate the results"
   ]
  },
  {
   "cell_type": "markdown",
   "metadata": {
    "id": "1vQc_i7dNlVv"
   },
   "source": [
    "**Note : If you are interested, also try classifying MNIST digit data using the code you have written for SVM, KNN and Logistic Regression** \n",
    "\n",
    "  "
   ]
  },
  {
   "cell_type": "code",
   "execution_count": 23,
   "metadata": {},
   "outputs": [],
   "source": [
    "import numpy as np\n",
    "import matplotlib.pyplot as plt \n",
    "from sklearn.utils import shuffle\n",
    "\n",
    "\n",
    "file1='t10k-images-idx3-ubyte'\n",
    "file2='t10k-labels-idx1-ubyte'\n",
    "\n",
    "import idx2numpy\n",
    "\n",
    "\n",
    "# input image dimensions\n",
    "img_rows, img_cols = 28, 28\n",
    "\n",
    "cl1, cl2 = 2, 9 #choose two class you want to evaluate\n",
    "\n",
    "\n",
    "x_train= idx2numpy.convert_from_file(file1)\n",
    "y_train= idx2numpy.convert_from_file(file2)"
   ]
  },
  {
   "cell_type": "code",
   "execution_count": 24,
   "metadata": {},
   "outputs": [
    {
     "data": {
      "image/png": "[encoded data removed]",
      "text/plain": [
       "<Figure size 432x288 with 16 Axes>"
      ]
     },
     "metadata": {},
     "output_type": "display_data"
    }
   ],
   "source": [
    "i, = np.where(y_train == cl1)   #used to separate index information of class 1\n",
    "j, = np.where(y_train == cl2)   #used to separate index information of class 2\n",
    "\n",
    "cl1_train=x_train[i,:,:]        #pooled out the data corresponds to class1\n",
    "cl1_label=y_train[i]            #pooled out the data labels corresponds to class1\n",
    "\n",
    "cl2_train=x_train[j,:,:]        #pooled out the data corresponds to class2\n",
    "cl2_label=y_train[j]            #pooled out the data labels corresponds to class2\n",
    "\n",
    "train_com = np.concatenate((cl1_train,cl2_train),axis=0)  #Marge the class1 and class2 data\n",
    "train_lab=np.concatenate((cl1_label,cl2_label),axis=0)   #Marge the labels of class1 and class2\n",
    "\n",
    "[train_sff,train_labs]=shuffle(train_com,train_lab)     # Shuffle the data and label (to properly train the network)\n",
    "#%%\n",
    "############################################# Plot to shuffled data ###########################\n",
    "fig = plt.figure()\n",
    "for i in range(16):\n",
    "  plt.subplot(4,4,i+1)\n",
    "  plt.tight_layout()\n",
    "  plt.imshow(train_sff[i], cmap='gray', interpolation='none')\n",
    "  plt.title(\"Digit: {}\".format(train_labs[i]))\n",
    "  plt.xticks([])\n",
    "  plt.yticks([])\n",
    "fig\n",
    "#%%\n",
    "########################################### Change the labels to 0 and 1 ( as dealing with 2 class), for easy conversion of categorial ###############################\n",
    "np.place(train_labs, train_labs==cl1, [0])\n",
    "np.place(train_labs, train_labs==cl2, [1])\n",
    "\n",
    "############################################################################################################\n",
    "#train_labs_cat = keras.utils.to_categorical(train_labs, 2)          # make the output label categorical\n",
    "#\n",
    "train_sff = train_sff.astype('float32')\n",
    "\n",
    "train_sff /= 255\n",
    "\n",
    "ftrain_sff=train_sff.reshape(train_labs.shape[0],img_rows*img_cols)  # flattern the input data"
   ]
  },
  {
   "cell_type": "code",
   "execution_count": 25,
   "metadata": {},
   "outputs": [],
   "source": [
    "# testing data\n",
    "file1='t10k-images-idx3-ubyte'\n",
    "file2='t10k-labels-idx1-ubyte'\n",
    "\n",
    "x_test= idx2numpy.convert_from_file(file1)\n",
    "y_test= idx2numpy.convert_from_file(file2)"
   ]
  },
  {
   "cell_type": "code",
   "execution_count": 26,
   "metadata": {},
   "outputs": [],
   "source": [
    "i, = np.where(y_test == cl1)      \n",
    "j, = np.where(y_test == cl2)\n",
    "cl1_test=x_test[i,:,:]\n",
    "cl1_label=y_test[i]\n",
    "\n",
    "#cl1_test=x_test[0:3,:,:]\n",
    "#cl1_label=y_test[0:3]\n",
    "\n",
    "\n",
    "cl2_test=x_test[j,:,:]\n",
    "cl2_label=y_test[j]\n",
    "\n",
    "#cl2_test=x_test[0:3,:,:]\n",
    "#cl2_label=y_test[0:3]\n",
    "\n",
    "test_com = np.concatenate((cl1_test,cl2_test),axis=0)\n",
    "test_lab=np.concatenate((cl1_label,cl2_label),axis=0)\n",
    "\n",
    "np.place(test_lab, test_lab==cl1, [0])\n",
    "np.place(test_lab, test_lab==cl2, [1])\n",
    "\n",
    "\n",
    "test_com = test_com.astype('float32')\n",
    "\n",
    "test_com /= 255\n",
    "\n",
    "ftest_com=test_com.reshape(test_lab.shape[0],img_rows*img_cols)"
   ]
  },
  {
   "cell_type": "code",
   "execution_count": 27,
   "metadata": {},
   "outputs": [],
   "source": [
    "from sklearn.multiclass import OneVsRestClassifier\n",
    "from sklearn.linear_model import LogisticRegression\n",
    "from sklearn.svm import LinearSVC\n",
    "from sklearn.metrics import confusion_matrix as conf_mat"
   ]
  },
  {
   "cell_type": "code",
   "execution_count": 28,
   "metadata": {},
   "outputs": [
    {
     "name": "stdout",
     "output_type": "stream",
     "text": [
      "Train accuracy Logistic regression= 99.85000000000001\n"
     ]
    }
   ],
   "source": [
    "#LR Training\n",
    "Lreg = LogisticRegression(solver='liblinear')\n",
    "Lreg.fit(ftrain_sff[0:2000,:],train_labs[0:2000])\n",
    "\n",
    "LR_tr_Acc=Lreg.score(ftrain_sff[0:2000,:],train_labs[0:2000])\n",
    "\n",
    "print('Train accuracy Logistic regression=',LR_tr_Acc*100)"
   ]
  },
  {
   "cell_type": "code",
   "execution_count": 29,
   "metadata": {},
   "outputs": [
    {
     "name": "stdout",
     "output_type": "stream",
     "text": [
      "Test accuracy Logistic regression= 99.80401763841255\n",
      "Confusion matrix=\n",
      " [[1029    3]\n",
      " [   1 1008]]\n"
     ]
    }
   ],
   "source": [
    "y_pred=Lreg.predict(ftest_com)\n",
    "Lreg_Acc=Lreg.score(ftest_com,test_lab)\n",
    "print('Test accuracy Logistic regression=',Lreg_Acc*100)\n",
    "print('Confusion matrix=\\n',conf_mat(test_lab,y_pred))"
   ]
  },
  {
   "cell_type": "code",
   "execution_count": 30,
   "metadata": {},
   "outputs": [
    {
     "name": "stdout",
     "output_type": "stream",
     "text": [
      "Train accuracy SVM= 100.0\n"
     ]
    }
   ],
   "source": [
    "# svm training\n",
    "svm = LinearSVC()\n",
    "svm.fit(ftrain_sff[0:2000,:],train_labs[0:2000])\n",
    "\n",
    "tr_Acc=svm.score(ftrain_sff[0:2000,:],train_labs[0:2000])\n",
    "print('Train accuracy SVM=',tr_Acc*100)"
   ]
  },
  {
   "cell_type": "code",
   "execution_count": 31,
   "metadata": {},
   "outputs": [
    {
     "name": "stdout",
     "output_type": "stream",
     "text": [
      "Test accuracy SVM= 99.95100440960314\n",
      "Confusion matrix=\n",
      " [[1031    1]\n",
      " [   0 1009]]\n"
     ]
    }
   ],
   "source": [
    "# svm testing\n",
    "y_pred=svm.predict(ftest_com)\n",
    "svm_Acc=svm.score(ftest_com,test_lab)\n",
    "print('Test accuracy SVM=',svm_Acc*100)\n",
    "print('Confusion matrix=\\n',conf_mat(test_lab,y_pred))"
   ]
  },
  {
   "cell_type": "code",
   "execution_count": null,
   "metadata": {},
   "outputs": [],
   "source": []
  }
 ],
 "metadata": {
  "colab": {
   "name": "Lab_8_Classification.ipynb",
   "provenance": []
  },
  "kernelspec": {
   "display_name": "Python 3",
   "language": "python",
   "name": "python3"
  },
  "language_info": {
   "codemirror_mode": {
    "name": "ipython",
    "version": 3
   },
   "file_extension": ".py",
   "mimetype": "text/x-python",
   "name": "python",
   "nbconvert_exporter": "python",
   "pygments_lexer": "ipython3",
   "version": "3.8.8"
  }
 },
 "nbformat": 4,
 "nbformat_minor": 1
}
