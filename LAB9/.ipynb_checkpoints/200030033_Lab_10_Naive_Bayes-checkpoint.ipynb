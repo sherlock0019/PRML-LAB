{
 "cells": [
  {
   "cell_type": "markdown",
   "metadata": {
    "id": "1SxibeRm0eHP"
   },
   "source": [
    "##***LAB 10 : Naive Bayes Classifier***##\n",
    "\n",
    "  1. Binary Classification using Naive Bayes Classifier\n",
    "  \n",
    "  2. Sentiment Analysis using Naive Bayes\n",
    "\n",
    "  \n"
   ]
  },
  {
   "cell_type": "code",
   "execution_count": 1,
   "metadata": {
    "id": "JL_2f9KRjax4"
   },
   "outputs": [],
   "source": [
    "import numpy as np\n",
    "import matplotlib.pyplot as plt\n",
    "import pandas as pd\n",
    "from sklearn.model_selection import train_test_split\n",
    "import joblib\n",
    "from sklearn.feature_extraction.text import CountVectorizer\n",
    "from sklearn.naive_bayes import MultinomialNB\n",
    "%matplotlib inline"
   ]
  },
  {
   "cell_type": "markdown",
   "metadata": {
    "id": "3kFmTcwYjaLM"
   },
   "source": [
    "##Binary Classification using Naive Bayes Classifier##\n",
    "\n",
    "Useful References : \n",
    "1. https://machinelearningmastery.com/naive-bayes-classifier-scratch-python/\n",
    "\n",
    "2. https://www.analyticsvidhya.com/blog/2021/01/a-guide-to-the-naive-bayes-algorithm/\n",
    "\n",
    "3. https://towardsdatascience.com/implementing-naive-bayes-algorithm-from-scratch-python-c6880cfc9c41\n",
    "\n",
    "**Note : The goal of this experiment is to perform and understand Naive Bayes classification by applying it on the below dataset, you can either fill in the below functions to get the result or you can create a class of your own using the above references to perform classification**"
   ]
  },
  {
   "cell_type": "markdown",
   "metadata": {
    "id": "buED4mnvjz_5"
   },
   "source": [
    "1. Generation of 2D training data"
   ]
  },
  {
   "cell_type": "code",
   "execution_count": 2,
   "metadata": {
    "colab": {
     "base_uri": "https://localhost:8080/",
     "height": 298
    },
    "id": "pXA9oMypj3OM",
    "outputId": "7907c6e3-b106-4492-e35f-26a1f03e5a63"
   },
   "outputs": [
    {
     "data": {
      "text/plain": [
       "Text(0.5, 1.0, 'Data visualization')"
      ]
     },
     "execution_count": 2,
     "metadata": {},
     "output_type": "execute_result"
    },
    {
     "data": {
      "image/png": "[encoded data removed]",
      "text/plain": [
       "<Figure size 432x288 with 1 Axes>"
      ]
     },
     "metadata": {
      "needs_background": "light"
     },
     "output_type": "display_data"
    }
   ],
   "source": [
    "mean1=np.array([0,0])\n",
    "mean2=np.array([4,5])\n",
    "var=np.array([[1,0.1],[0.1,1]])\n",
    "np.random.seed(0)\n",
    "data1=np.random.multivariate_normal(mean1,var,50)\n",
    "data2=np.random.multivariate_normal(mean2,var,50)\n",
    "data=np.concatenate((data1,data2))\n",
    "label=np.concatenate((np.zeros(data1.shape[0]),np.ones(data2.shape[0])))\n",
    "\n",
    "plt.figure()\n",
    "plt.scatter(data[:,0],data[:,1],c=label)\n",
    "plt.title('Data visualization')\n"
   ]
  },
  {
   "cell_type": "markdown",
   "metadata": {
    "id": "6cJBcLjTpMpX"
   },
   "source": [
    "2. Split the Dataset by Class Values (Create a Dictionary)"
   ]
  },
  {
   "cell_type": "code",
   "execution_count": 3,
   "metadata": {},
   "outputs": [],
   "source": [
    "def class_dictionary(data, label):\n",
    "    class_dict = {}\n",
    "    \n",
    "    labels_data = [0, 1]\n",
    "\n",
    "    for i in labels_data:\n",
    "        class_dict[i] = []\n",
    "        \n",
    "    for i,d in enumerate(data):\n",
    "        class_dict[label[i]].append(d)\n",
    "        \n",
    "    return class_dict\n",
    "\n",
    "class_dict_data = class_dictionary(data, label)"
   ]
  },
  {
   "cell_type": "markdown",
   "metadata": {
    "id": "C2FlXCa5q2rt"
   },
   "source": [
    "3. Calculate Mean, Std deviation and count for each column in a dataset"
   ]
  },
  {
   "cell_type": "code",
   "execution_count": 4,
   "metadata": {},
   "outputs": [],
   "source": [
    "def get_variables(class_dict):\n",
    "    dataFrame = pd.DataFrame.from_dict(class_dict)\n",
    "    \n",
    "    #vectors for each data vector\n",
    "    vec11 = []\n",
    "    vec12 = []\n",
    "\n",
    "    vec21 = []\n",
    "    vec22 = []\n",
    "\n",
    "    for i in range(len(dataFrame)):\n",
    "        vec11.append(dataFrame[0][i][0])\n",
    "        vec12.append(dataFrame[0][i][1])\n",
    "\n",
    "        vec21.append(dataFrame[1][i][0])\n",
    "        vec22.append(dataFrame[1][i][1])\n",
    "        \n",
    "    out0 = [[np.mean(vec11), np.std(vec11), len(vec11)], [np.mean(vec12), np.std(vec12), len(vec12)]]\n",
    "    out1 = [[np.mean(vec21), np.std(vec21), len(vec21)], [np.mean(vec22), np.std(vec22), len(vec22)]]\n",
    "    \n",
    "    out_dict = {0: out0, 1: out1}\n",
    "    \n",
    "    return out_dict\n"
   ]
  },
  {
   "cell_type": "code",
   "execution_count": 5,
   "metadata": {},
   "outputs": [],
   "source": [
    "variables_data = get_variables(class_dict_data)"
   ]
  },
  {
   "cell_type": "markdown",
   "metadata": {
    "id": "zKFDa--0sqlR"
   },
   "source": [
    "3. Calculate Class Probabilities"
   ]
  },
  {
   "cell_type": "code",
   "execution_count": 6,
   "metadata": {
    "id": "_cEkA46bsteW"
   },
   "outputs": [],
   "source": [
    "def calculate_probability(x,mean,stdev):\n",
    "    exponent = np.exp(-((x-mean)**2 / (2 * stdev**2 )))\n",
    "    return (1 / (np.sqrt(2 * np.pi) * stdev)) * exponent\n",
    "\n",
    "def calculate_class_probabilities(summaries,row):\n",
    "    probabilities = dict()\n",
    "\n",
    "    '''\n",
    "    You can use the above function (calculate_probability) to calculate \n",
    "    probability of an individual data point belonging to a particular class \n",
    "    based on mean and std deviation of that class\n",
    "    '''\n",
    "    \n",
    "    total = np.sum([summaries[i][0][2] for i in summaries])\n",
    "    \n",
    "    for class_value, class_summaries in summaries.items():\n",
    "        probabilities[class_value] = (summaries[class_value][0][2])/float(total)\n",
    "        \n",
    "        for i in range(len(class_summaries)):\n",
    "            mean, stdev, count = class_summaries[i]\n",
    "            probabilities[class_value] *= calculate_probability(row[i], mean, stdev)\n",
    "\n",
    "    return probabilities"
   ]
  },
  {
   "cell_type": "code",
   "execution_count": null,
   "metadata": {},
   "outputs": [],
   "source": []
  },
  {
   "cell_type": "markdown",
   "metadata": {
    "id": "14kbEgqEw9_a"
   },
   "source": [
    "4. Test the model using some samples"
   ]
  },
  {
   "cell_type": "code",
   "execution_count": 7,
   "metadata": {
    "colab": {
     "base_uri": "https://localhost:8080/",
     "height": 314
    },
    "id": "x2TpLdVWw9CS",
    "outputId": "b0757acf-9cfd-4cd8-a767-233eb9408252"
   },
   "outputs": [
    {
     "name": "stdout",
     "output_type": "stream",
     "text": [
      "Test Data Size :  20\n"
     ]
    },
    {
     "data": {
      "text/plain": [
       "Text(0.5, 1.0, 'Data visualization')"
      ]
     },
     "execution_count": 7,
     "metadata": {},
     "output_type": "execute_result"
    },
    {
     "data": {
      "image/png": "[encoded data removed]",
      "text/plain": [
       "<Figure size 432x288 with 1 Axes>"
      ]
     },
     "metadata": {
      "needs_background": "light"
     },
     "output_type": "display_data"
    }
   ],
   "source": [
    "## Test Data Generation\n",
    "\n",
    "mean1=np.array([0,0])\n",
    "mean2=np.array([4,5])\n",
    "var=np.array([[1,0.1],[0.1,1]])\n",
    "np.random.seed(0)\n",
    "data1=np.random.multivariate_normal(mean1,var,10)\n",
    "data2=np.random.multivariate_normal(mean2,var,10)\n",
    "test_data=np.concatenate((data1,data2))\n",
    "y_test=np.concatenate((np.zeros(data1.shape[0]),np.ones(data2.shape[0])))\n",
    "print('Test Data Size : ',test_data.shape[0])\n",
    "plt.figure()\n",
    "plt.scatter(test_data[:,0],test_data[:,1], c=y_test)\n",
    "plt.title('Data visualization')"
   ]
  },
  {
   "cell_type": "code",
   "execution_count": 8,
   "metadata": {},
   "outputs": [
    {
     "data": {
      "text/plain": [
       "array([[-1.57668985, -1.03982262],\n",
       "       [-2.22908837,  0.77738534],\n",
       "       [-0.72944014, -2.04059601],\n",
       "       [-0.60307093, -0.80613793],\n",
       "       [-0.1988887 ,  0.351987  ],\n",
       "       [-1.0823819 ,  0.86873075],\n",
       "       [-0.64602276, -0.4827786 ],\n",
       "       [-0.55301333, -0.10534224],\n",
       "       [-0.97041435, -1.24566304],\n",
       "       [ 0.34076762, -0.80512206],\n",
       "       [ 5.45488724,  7.3318086 ],\n",
       "       [ 3.85677639,  3.86105753],\n",
       "       [ 3.29232307,  2.34108677],\n",
       "       [ 4.09163132,  4.84049783],\n",
       "       [ 1.87758468,  4.84893634],\n",
       "       [ 3.63140878,  5.13876704],\n",
       "       [ 5.9871582 ,  4.32964087],\n",
       "       [ 4.15313648,  5.36290063],\n",
       "       [ 2.28101109,  4.89417293],\n",
       "       [ 4.49004011,  5.08445841]])"
      ]
     },
     "execution_count": 8,
     "metadata": {},
     "output_type": "execute_result"
    }
   ],
   "source": [
    "test_data"
   ]
  },
  {
   "cell_type": "markdown",
   "metadata": {
    "id": "OLbY6KhzzoHw"
   },
   "source": [
    "Testing for a sample point"
   ]
  },
  {
   "cell_type": "code",
   "execution_count": 9,
   "metadata": {
    "colab": {
     "base_uri": "https://localhost:8080/"
    },
    "id": "cVcXm0UCxTcQ",
    "outputId": "f1a66200-ad53-4b8b-f09c-8b1f69ef05ed"
   },
   "outputs": [
    {
     "name": "stdout",
     "output_type": "stream",
     "text": [
      "Class Probabilites for the sample 1 of test dataset:\n",
      "{0: 0.014197204018409897, 1: 8.332975086162198e-16}\n",
      "\n",
      "\n",
      "Class Probabilites for the sample 2 of test dataset:\n",
      "{0: 0.005880036890276387, 1: 1.670299581883601e-13}\n",
      "\n",
      "\n",
      "Class Probabilites for the sample 3 of test dataset:\n",
      "{0: 0.007806994544567309, 1: 9.895247977223021e-17}\n",
      "\n",
      "\n",
      "Class Probabilites for the sample 4 of test dataset:\n",
      "{0: 0.047798541578370046, 1: 3.277207456326854e-13}\n",
      "\n",
      "\n",
      "Class Probabilites for the sample 5 of test dataset:\n",
      "{0: 0.07446436058680476, 1: 5.68277354594584e-10}\n",
      "\n",
      "\n",
      "Class Probabilites for the sample 6 of test dataset:\n",
      "{0: 0.03435888376009211, 1: 1.0796182888636311e-10}\n",
      "\n",
      "\n",
      "Class Probabilites for the sample 7 of test dataset:\n",
      "{0: 0.05790693338553502, 1: 1.5553988414895831e-12}\n",
      "\n",
      "\n",
      "Class Probabilites for the sample 8 of test dataset:\n",
      "{0: 0.06896104108236176, 1: 1.5708797068171567e-11}\n",
      "\n",
      "\n",
      "Class Probabilites for the sample 9 of test dataset:\n",
      "{0: 0.023376727991490542, 1: 5.037855786228869e-15}\n",
      "\n",
      "\n",
      "Class Probabilites for the sample 10 of test dataset:\n",
      "{0: 0.05017154875490167, 1: 1.2593993658550842e-11}\n",
      "\n",
      "\n",
      "Class Probabilites for the sample 11 of test dataset:\n",
      "{0: 1.6251054561363263e-19, 1: 0.002461410419103012}\n",
      "\n",
      "\n",
      "Class Probabilites for the sample 12 of test dataset:\n",
      "{0: 3.069063988103115e-08, 1: 0.03523745712154807}\n",
      "\n",
      "\n",
      "Class Probabilites for the sample 13 of test dataset:\n",
      "{0: 2.0293249571742938e-05, 1: 0.0016571501852476987}\n",
      "\n",
      "\n",
      "Class Probabilites for the sample 14 of test dataset:\n",
      "{0: 2.1402220483683901e-10, 1: 0.07089168645216266}\n",
      "\n",
      "\n",
      "Class Probabilites for the sample 15 of test dataset:\n",
      "{0: 2.0201055386093997e-07, 1: 0.010351101842332976}\n",
      "\n",
      "\n",
      "Class Probabilites for the sample 16 of test dataset:\n",
      "{0: 3.330973809885661e-10, 1: 0.0728828827384983}\n",
      "\n",
      "\n",
      "Class Probabilites for the sample 17 of test dataset:\n",
      "{0: 1.0187586090518097e-13, 1: 0.0067536304107634485}\n",
      "\n",
      "\n",
      "Class Probabilites for the sample 18 of test dataset:\n",
      "{0: 1.343314268072207e-11, 1: 0.07112634335881654}\n",
      "\n",
      "\n",
      "Class Probabilites for the sample 19 of test dataset:\n",
      "{0: 6.780752872666843e-08, 1: 0.02111004824175014}\n",
      "\n",
      "\n",
      "Class Probabilites for the sample 20 of test dataset:\n",
      "{0: 1.1710186512806226e-11, 1: 0.06330676403999416}\n",
      "\n",
      "\n"
     ]
    }
   ],
   "source": [
    "for i in range(len(test_data)):\n",
    "    \n",
    "    class_dict = class_dictionary(data,label)\n",
    "    var_dict = get_variables(class_dict)\n",
    "    out = calculate_class_probabilities(var_dict,test_data[i])\n",
    "    print('Class Probabilites for the sample ' + str(i+1) + ' of test dataset:')\n",
    "    print(out)\n",
    "    print('\\n')"
   ]
  },
  {
   "cell_type": "markdown",
   "metadata": {
    "id": "mjV6DO0myhKQ"
   },
   "source": [
    "**As seen above the class probability for the 1st sample is given, we can observe that probability is higher for class 0 than 1 and hence imply that this datapoint belongs to class 0**\n",
    "\n",
    "\n",
    "Now Calculate the class probabilities for all the data points in the test dataset and calculate the accuracy by comparing the predicted labels with the true test labels\n"
   ]
  },
  {
   "cell_type": "code",
   "execution_count": 10,
   "metadata": {
    "id": "Rs-UXbl2y-2N"
   },
   "outputs": [
    {
     "name": "stdout",
     "output_type": "stream",
     "text": [
      "accuracy of the model is: 100.0\n"
     ]
    }
   ],
   "source": [
    "new_labels = list()\n",
    "acc_metric = 0\n",
    "\n",
    "for i in range(len(test_data)):\n",
    "    t = test_data[i]\n",
    "    out = calculate_class_probabilities(var_dict,t)\n",
    "    \n",
    "    #check if class 0 prob is greater than class 1\n",
    "    if(out[0] > out[1]):\n",
    "        #return the class label as 0\n",
    "        new_labels.append(0)\n",
    "        \n",
    "    #check if class 1 prob is greater than class 0\n",
    "    else:\n",
    "        #return the class label as 1\n",
    "        new_labels.append(1)\n",
    "        \n",
    "new_labels = np.array(new_labels)\n",
    "\n",
    "for idx,i in enumerate(y_test):\n",
    "    if(i == new_labels[idx]):\n",
    "        acc_metric += 1;\n",
    "        \n",
    "#accuracy of the model will be\n",
    "print(\"accuracy of the model is:\",acc_metric/len(test_data)*100)"
   ]
  },
  {
   "cell_type": "markdown",
   "metadata": {
    "id": "Qc_SfqHkz3Kz"
   },
   "source": [
    "5. Use the Sci-kit Learn library to perform Gaussian Naive Bayes classifier on the above dataset, also report the accuracy and confusion matrix for the same"
   ]
  },
  {
   "cell_type": "code",
   "execution_count": 11,
   "metadata": {
    "id": "vt0veSsf0BVV"
   },
   "outputs": [
    {
     "name": "stdout",
     "output_type": "stream",
     "text": [
      "[[10  0]\n",
      " [ 0 10]]\n",
      "The accuracy of this Gausian Naive Bayes classifier is 100.0\n"
     ]
    }
   ],
   "source": [
    "from sklearn.naive_bayes import GaussianNB\n",
    "from sklearn.metrics import confusion_matrix\n",
    "from sklearn.metrics import accuracy_score\n",
    "\n",
    "nb = GaussianNB();\n",
    "nb.fit(data,label)\n",
    "\n",
    "y_predict = nb.predict(test_data)\n",
    "print(confusion_matrix(y_test,y_predict))\n",
    "\n",
    "print('The accuracy of this Gausian Naive Bayes classifier is', accuracy_score(y_test,y_predict)*100)"
   ]
  },
  {
   "cell_type": "markdown",
   "metadata": {
    "id": "1UTNODz-zsf1"
   },
   "source": [
    "##Sentiment Analysis using Naive Bayes Classifier##\n",
    "\n",
    "Go through the following [article](https://www.analyticsvidhya.com/blog/2021/07/performing-sentiment-analysis-with-naive-bayes-classifier/) and implement the same \n",
    "\n",
    "**Keypoints** : \n",
    "  \n",
    "  1. The link to the dataset is given in the above article, download the same to perform sentiment analysis\n",
    "\n",
    "  2. Understanding how to deal with text data is very important since it requires a lot of preprocessing, you can go through this [article](https://www.analyticsvidhya.com/blog/2021/06/text-preprocessing-in-nlp-with-python-codes/) if you are interested in learning more about it\n",
    "  \n",
    "  3. Split the dataset into train-test and train the model\n",
    "  \n",
    "  4. Report the accuracy metrics and try some sample prediction outside of those present in the dataset\n",
    "\n",
    "\n",
    "**Note : The goal of this experiment is to explore a practical use case of Naive bayes classifier as well as to understand how to deal with textual data, you can follow any other open source implemetations of sentiment analysis using naive bayes also**\n",
    "\n",
    "Other References : \n",
    "\n",
    "1. https://towardsdatascience.com/sentiment-analysis-introduction-to-naive-bayes-algorithm-96831d77ac91\n",
    "\n",
    "2. https://gist.github.com/CateGitau/6608912ca92733036c090676c61c13cd"
   ]
  },
  {
   "cell_type": "code",
   "execution_count": 12,
   "metadata": {
    "id": "5x6A4Mp4zw0E"
   },
   "outputs": [
    {
     "name": "stdout",
     "output_type": "stream",
     "text": [
      "Requirement already satisfied: nltk in c:\\users\\pranay kamal\\anaconda3\\lib\\site-packages (3.6.1)\n",
      "Requirement already satisfied: regex in c:\\users\\pranay kamal\\anaconda3\\lib\\site-packages (from nltk) (2021.4.4)\n",
      "Requirement already satisfied: joblib in c:\\users\\pranay kamal\\anaconda3\\lib\\site-packages (from nltk) (1.0.1)\n",
      "Requirement already satisfied: click in c:\\users\\pranay kamal\\anaconda3\\lib\\site-packages (from nltk) (8.0.3)\n",
      "Requirement already satisfied: tqdm in c:\\users\\pranay kamal\\anaconda3\\lib\\site-packages (from nltk) (4.59.0)\n",
      "Requirement already satisfied: colorama in c:\\users\\pranay kamal\\anaconda3\\lib\\site-packages (from click->nltk) (0.4.4)\n"
     ]
    }
   ],
   "source": [
    "!pip install nltk"
   ]
  },
  {
   "cell_type": "code",
   "execution_count": 13,
   "metadata": {},
   "outputs": [],
   "source": [
    "data = pd.read_csv('data.csv')"
   ]
  },
  {
   "cell_type": "code",
   "execution_count": 14,
   "metadata": {},
   "outputs": [],
   "source": [
    "def preprocess_data(data):\n",
    "    # Remove package name as it's not relevant\n",
    "    data = data.drop('package_name', axis=1)\n",
    "    \n",
    "    # Convert text to lowercase\n",
    "    data['review'] = data['review'].str.strip().str.lower()\n",
    "    return data\n",
    "\n",
    "data = preprocess_data(data)"
   ]
  },
  {
   "cell_type": "code",
   "execution_count": 15,
   "metadata": {},
   "outputs": [
    {
     "name": "stdout",
     "output_type": "stream",
     "text": [
      "0.8565022421524664\n",
      "[1]\n"
     ]
    }
   ],
   "source": [
    "# Split into training and testing data\n",
    "x = data['review']\n",
    "y = data['polarity']\n",
    "\n",
    "x, x_test, y, y_test = train_test_split(x, y, stratify=y, test_size=0.25, random_state=42)\n",
    "\n",
    "# Vectorize text reviews to numbers\n",
    "vec = CountVectorizer(stop_words='english')\n",
    "x = vec.fit_transform(x).toarray()\n",
    "x_test = vec.transform(x_test).toarray()\n",
    "\n",
    "\n",
    "model = MultinomialNB()\n",
    "model.fit(x, y)\n",
    "\n",
    "print(model.score(x_test, y_test))\n",
    "\n",
    "print(model.predict(vec.transform(['Love this app simply awesome!'])))"
   ]
  },
  {
   "cell_type": "code",
   "execution_count": null,
   "metadata": {},
   "outputs": [],
   "source": []
  }
 ],
 "metadata": {
  "colab": {
   "name": "Lab_10_Naive_Bayes.ipynb",
   "provenance": []
  },
  "kernelspec": {
   "display_name": "Python 3",
   "language": "python",
   "name": "python3"
  },
  "language_info": {
   "codemirror_mode": {
    "name": "ipython",
    "version": 3
   },
   "file_extension": ".py",
   "mimetype": "text/x-python",
   "name": "python",
   "nbconvert_exporter": "python",
   "pygments_lexer": "ipython3",
   "version": "3.8.8"
  }
 },
 "nbformat": 4,
 "nbformat_minor": 1
}
